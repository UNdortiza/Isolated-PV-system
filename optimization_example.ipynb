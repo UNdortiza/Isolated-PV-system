{
 "cells": [
  {
   "cell_type": "code",
   "execution_count": 1,
   "metadata": {},
   "outputs": [],
   "source": [
    "import pandas as pd\n",
    "from numpy import mean, std\n",
    "import datetime\n",
    "from matplotlib.pyplot import *\n",
    "\n",
    "from functions.rationing import rationing_monteCarlo\n",
    "# Adecuando los datos de entrada:\n",
    "\n",
    "## importando datos de irradiancia\n",
    "df_irradiancia = pd.read_excel('data.xlsx', sheet_name='NSRDB', usecols=['Month','Day','Hour','Minute','Clearsky GHI','GHI'] )\n",
    "## reemplanzando headers con espacios por barras\n",
    "df_irradiancia.columns = [c.replace(' ', '_') for c in df_irradiancia.columns]\n",
    "df_irradiancia['K_t'] = ( df_irradiancia['GHI'] / df_irradiancia['Clearsky_GHI'] )\n",
    "\n",
    "## importando datos del perfil de consumo horario en un dia\n",
    "consumo_horario = pd.read_excel('data.xlsx', sheet_name='Edt',index_col='hora')\n",
    "## generando una lista con los valores de energia en intervalos de una hora\n",
    "energia_hora = [ i.energia for i in consumo_horario.itertuples() ]\n"
   ]
  },
  {
   "cell_type": "code",
   "execution_count": 2,
   "metadata": {},
   "outputs": [
    {
     "name": "stdout",
     "output_type": "stream",
     "text": [
      "costo: 13533730.24\n",
      "máximo racionamiento: 4.11 %\n",
      "media: 2.56 %\n",
      "desviación estándar: 0.49 %\n"
     ]
    }
   ],
   "source": [
    "# Cantidad de módulos y baterías\n",
    "n_modulos = 8\n",
    "n_baterias = 4\n",
    "\n",
    "# Precio de cada módulo\n",
    "p_modulo = 798011.78\n",
    "# Precio de cada batería\n",
    "p_bateria = 1787409\n",
    "\n",
    "# Función simplificada de costos\n",
    "costo = n_modulos * p_modulo + n_baterias * p_bateria\n",
    "\n",
    "r_mc = rationing_monteCarlo(    iterations=100,                     # numero de iteraciones [und]\n",
    "                                irradiance_data=df_irradiancia,     # datos de irradiancia [DataFrame de Pandas]\n",
    "                                time_zone=-5,                       # horas [H-GMT]\n",
    "                                latitude=4.591480,                  # latitud [° Decimales (DD)]\n",
    "                                longitude=-74.691412,               # longitud [° Decimales (DD)]\n",
    "                                altitude=321,                       # altitud [m]\n",
    "                                climate_type='Tropical',            # tipo de clima ['Tropical', 'Midlatitude summer', 'Subarctic summer', 'Midlatitude winter']\n",
    "                                year=2022,                          # año[AAAA]\n",
    "                                surf_azm=180,                       # angulo azimutal del arreglo de módulos [°]\n",
    "                                surf_tilt=4,                        # angulo de inclinación del arreglo de módulos [°]\n",
    "                                albedo=0.17,                        # albedo [adimensional]\n",
    "                                energy_per_hour=energia_hora,       # datos horarios del consumo energético cada hora en un dia normal [Wh]\n",
    "                                n_m=n_modulos,                      # numero de módulos en el arreglo [und]\n",
    "                                A_m=2.5,                            # area efectiva del modulo [m^2]\n",
    "                                eta_m=19,                           # eficiencia del modulo [%]\n",
    "                                n_b=n_baterias,                     # numero de baterías [und]\n",
    "                                v_b=12,                             # tension nominal de la batería [Vdc]\n",
    "                                E_b_max=300,                        # capacidad de la batería [Ah]\n",
    "                                l_b_min=40,                         # nivel mas bajo de descarga de la batería [%] (100% - profundidad de descarga)\n",
    "                                l_b_0=50                            # nivel de carga inicial del sistema de almacenamiento [%]\n",
    "                            )\n",
    "\n",
    "print('costo: $', costo )\n",
    "print('máximo racionamiento:', round( max(r_mc) * 100 , 2 ), '%' )\n",
    "print('media:',round(  mean(r_mc) * 100, 2 ), '%' )\n",
    "print('desviación estándar:', round( std(r_mc) * 100, 2 ), '%' )\n"
   ]
  }
 ],
 "metadata": {
  "kernelspec": {
   "display_name": "Python 3.10.7 64-bit",
   "language": "python",
   "name": "python3"
  },
  "language_info": {
   "codemirror_mode": {
    "name": "ipython",
    "version": 3
   },
   "file_extension": ".py",
   "mimetype": "text/x-python",
   "name": "python",
   "nbconvert_exporter": "python",
   "pygments_lexer": "ipython3",
   "version": "3.10.7 (tags/v3.10.7:6cc6b13, Sep  5 2022, 14:08:36) [MSC v.1933 64 bit (AMD64)]"
  },
  "orig_nbformat": 4,
  "vscode": {
   "interpreter": {
    "hash": "5d9618606be56b06bd1f5c5dbe46f5e3858095a45d5c745657a4088b24d6c27f"
   }
  }
 },
 "nbformat": 4,
 "nbformat_minor": 2
}
